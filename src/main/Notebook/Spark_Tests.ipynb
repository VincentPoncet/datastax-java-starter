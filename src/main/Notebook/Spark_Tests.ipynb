{
 "cells": [
  {
   "cell_type": "code",
   "execution_count": null,
   "metadata": {
    "collapsed": false
   },
   "outputs": [],
   "source": [
    "case class OrderLine (\n",
    "    sku : String,\n",
    "    productName : String,\n",
    "    thumbnailImage: String,\n",
    "    quantity : Double,\n",
    "    unitPrice : Double,\n",
    "    totalPrice : Double\n",
    ")\n",
    "\n",
    "case class Order (\n",
    "    customerId : java.util.UUID ,\n",
    "    orderId : java.util.UUID ,\n",
    "    date : java.util.Date ,\n",
    "    OrderLines_ : List[OrderLine] ,\n",
    "    totalPrice : Double\n",
    ")\n",
    "\n",
    "case class OrderLines (\n",
    "    OrderLines_ : List[OrderLine]\n",
    ")\n",
    "\n",
    "case class RecommendedProduct (\n",
    "    sku : String,\n",
    "    product_name : String,\n",
    "    regular_price : Double,\n",
    "    thumbnail_image : String\n",
    ");\n",
    "\n",
    "case class ProductRecommendations (\n",
    "    sku : String,\n",
    "    product_name : String,\n",
    "    recommended_products : List[RecommendedProduct]\n",
    ");\n",
    "\n",
    "case class Top50SellingProducts (\n",
    "    sku : String,\n",
    "    productName : String,\n",
    "    saleCount : Double,\n",
    "    saleValue : Double,\n",
    "    thumbnailImage : String\n",
    ");\n",
    "\n"
   ]
  },
  {
   "cell_type": "code",
   "execution_count": null,
   "metadata": {
    "collapsed": true
   },
   "outputs": [],
   "source": [
    "val orders = sc.cassandraTable[Order](\"retail_ks\",\"orders\")"
   ]
  },
  {
   "cell_type": "code",
   "execution_count": null,
   "metadata": {
    "collapsed": false
   },
   "outputs": [],
   "source": [
    "val orders = sc.cassandraTable[OrderLines](\"retail_ks\",\"orders\").select(\"order_lines_\")"
   ]
  },
  {
   "cell_type": "code",
   "execution_count": null,
   "metadata": {
    "collapsed": false
   },
   "outputs": [],
   "source": [
    "orders.count"
   ]
  },
  {
   "cell_type": "code",
   "execution_count": null,
   "metadata": {
    "collapsed": false
   },
   "outputs": [],
   "source": [
    "val orderlines = orders.flatMap ( order => order.OrderLines_).map( ol => (ol.sku, (ol.productName, ol.thumbnailImage, ol.quantity, ol. unitPrice, ol.totalPrice)))"
   ]
  },
  {
   "cell_type": "code",
   "execution_count": null,
   "metadata": {
    "collapsed": false
   },
   "outputs": [],
   "source": [
    "orderlines.take(10)"
   ]
  },
  {
   "cell_type": "code",
   "execution_count": null,
   "metadata": {
    "collapsed": false
   },
   "outputs": [],
   "source": [
    "val soldproducts = orderlines.reduceByKey( (a,b) => (a._1, a._2, a._3+b._3, a._4, a._5+b._5)).\n",
    "    map( { case ( sku, (productName, thumbnailImage, count, unitPrice, value) ) => Top50SellingProducts (sku, productName, count, value, thumbnailImage) })"
   ]
  },
  {
   "cell_type": "code",
   "execution_count": null,
   "metadata": {
    "collapsed": false
   },
   "outputs": [],
   "source": [
    "val Top50CountSellingProducts = soldproducts.sortBy(  -_.saleValue  ).\n",
    "    zipWithIndex.\n",
    "    filter{case (_, idx) => idx < 50}.\n",
    "    keys"
   ]
  },
  {
   "cell_type": "code",
   "execution_count": null,
   "metadata": {
    "collapsed": false
   },
   "outputs": [],
   "source": [
    "Top50CountSellingProducts.take(100)"
   ]
  },
  {
   "cell_type": "code",
   "execution_count": null,
   "metadata": {
    "collapsed": false
   },
   "outputs": [],
   "source": [
    "Top50CountSellingProducts.saveToCassandra(\"retail_ks\",\"top50_selling_products\" )"
   ]
  },
  {
   "cell_type": "code",
   "execution_count": null,
   "metadata": {
    "collapsed": false
   },
   "outputs": [],
   "source": [
    "val ProductCoOccurance = orders.\n",
    "    flatMap( order => order.OrderLines_.\n",
    "        map(  ol => ( ol.sku , order.OrderLines_.\n",
    "            map(ol => (ol.sku, (ol.productName, ol.thumbnailImage, ol.quantity, ol. unitPrice, ol.totalPrice))).filter ( ol3 => ol3._1!=`ol`.sku)\n",
    "                ) // for each order, make a list of product cooccurance (product1, product2)\n",
    "            )\n",
    "            ).reduceByKey{ (a,b) =>\n",
    "                          // merge the list per product1\n",
    "                          val mergedBySku = (a++b)\n",
    "                          // for each product1, merge list on key product2\n",
    "                          val groupedBySku = mergedBySku.groupBy( { case (sku,(pn, ti, q, up, tp)) => sku } ).values.toList\n",
    "                          // aggregate value sum of product2\n",
    "                          groupedBySku.map( listOfProduct => listOfProduct.reduce( (a,b) => (a._1, (a._2._1, a._2._2, a._2._3+b._2._3, a._2._4, a._2._5+b._2._5))) )\n",
    "                           }.\n",
    "                mapValues { TotalSumBySku =>\n",
    "                // take top50 product2 sorted on summed value\n",
    "                val Top50Value = TotalSumBySku.sortBy(-_._2._5).slice(0,50)\n",
    "                // create a RecommendedProduct item to fit table structure\n",
    "                Top50Value.map( lop => RecommendedProduct(lop._1, lop._2._1, lop._2._4  , lop._2._2  ))\n",
    "                        }.\n",
    "            // create a ProductRecommendation to fit table structure\n",
    "            map( pco => ProductRecommendations(pco._1, \"\", pco._2))"
   ]
  },
  {
   "cell_type": "code",
   "execution_count": null,
   "metadata": {
    "collapsed": true
   },
   "outputs": [],
   "source": [
    "ProductCoOccurance.take(1)"
   ]
  },
  {
   "cell_type": "code",
   "execution_count": 1,
   "metadata": {
    "collapsed": true
   },
   "outputs": [],
   "source": [
    "val sqlContext = new org.apache.spark.sql.hive.HiveContext(sc)\n",
    "import sqlContext.implicits._"
   ]
  },
  {
   "cell_type": "code",
   "execution_count": null,
   "metadata": {
    "collapsed": false
   },
   "outputs": [],
   "source": [
    "val pcodf = ProductCoOccurance.toDF\n",
    "pcodf.printSchema"
   ]
  },
  {
   "cell_type": "code",
   "execution_count": null,
   "metadata": {
    "collapsed": false
   },
   "outputs": [],
   "source": [
    "pcodf.write.format(\"org.apache.spark.sql.cassandra\").\n",
    "    options(Map( \"table\" -> \"product_recommendations\", \"keyspace\" -> \"retail_ks\")).\n",
    "    mode(\"overwrite\").\n",
    "    save()\n"
   ]
  },
  {
   "cell_type": "code",
   "execution_count": null,
   "metadata": {
    "collapsed": false
   },
   "outputs": [],
   "source": [
    "ProductCoOccurance.saveToCassandra(\"retail_ks\",\"product_recommendations\")"
   ]
  },
  {
   "cell_type": "code",
   "execution_count": null,
   "metadata": {
    "collapsed": false
   },
   "outputs": [],
   "source": [
    "val pcodf_read = sqlContext.read.format(\"org.apache.spark.sql.cassandra\").\n",
    "\toptions(Map( \"table\" -> \"product_recommendations\", \"keyspace\" -> \"retail_ks\")).\n",
    "\tload()\n"
   ]
  },
  {
   "cell_type": "code",
   "execution_count": null,
   "metadata": {
    "collapsed": false
   },
   "outputs": [],
   "source": [
    "pcodf_read.count"
   ]
  },
  {
   "cell_type": "code",
   "execution_count": null,
   "metadata": {
    "collapsed": false
   },
   "outputs": [],
   "source": [
    "sc.cassandraTable(\"retail_ks\",\"product_catalog\").count"
   ]
  },
  {
   "cell_type": "code",
   "execution_count": null,
   "metadata": {
    "collapsed": false
   },
   "outputs": [],
   "source": [
    "sc.cassandraTable(\"retail_ks\",\"product_accessories\").count"
   ]
  },
  {
   "cell_type": "code",
   "execution_count": null,
   "metadata": {
    "collapsed": true
   },
   "outputs": [],
   "source": [
    "val orders_df = sqlContext.read.format(\"org.apache.spark.sql.cassandra\").\n",
    "\toptions(Map( \"table\" -> \"orders\", \"keyspace\" -> \"retail_ks\")).\n",
    "\tload()"
   ]
  },
  {
   "cell_type": "code",
   "execution_count": null,
   "metadata": {
    "collapsed": false
   },
   "outputs": [],
   "source": [
    "orders_df.printSchema"
   ]
  },
  {
   "cell_type": "code",
   "execution_count": 3,
   "metadata": {
    "collapsed": false
   },
   "outputs": [
    {
     "name": "stdout",
     "output_type": "stream",
     "text": [
      "\r",
      "                                                                                \r",
      "+-------+--------------------+\n",
      "|    sku|          sale_value|\n",
      "+-------+--------------------+\n",
      "|7739048| 4.841700316580001E9|\n",
      "|4920300|3.9359501601000004E9|\n",
      "|3429088| 3.508382976019998E9|\n",
      "|5182036|1.9988070029700005E9|\n",
      "|5034500|1.8577451580799997E9|\n",
      "|3892044|      1.7299176147E9|\n",
      "|5034600|     1.69519761411E9|\n",
      "|5035005|1.5128629141799996E9|\n",
      "|5042100|1.4186518666999993E9|\n",
      "|5418101|1.2521674913100004E9|\n",
      "|3429111|     1.24604751579E9|\n",
      "|4506048|     1.16833512026E9|\n",
      "|5065700|     1.16065775364E9|\n",
      "|6273121|     1.13445133512E9|\n",
      "|4507056|1.0710284998399999E9|\n",
      "|4209600|1.0486804062599998E9|\n",
      "|4516300|1.0314208428699999E9|\n",
      "|4575002| 9.948360515399998E8|\n",
      "|5149031| 8.938876339299996E8|\n",
      "|4213306| 8.171932925100001E8|\n",
      "|5185184| 7.523689682799999E8|\n",
      "|3953166| 6.565352496900002E8|\n",
      "|5416149| 6.553015591799997E8|\n",
      "|4213305|      6.4491463908E8|\n",
      "|4517500| 6.116409029499999E8|\n",
      "|9212012|      5.9779421834E8|\n",
      "|3953148|      5.8863829464E8|\n",
      "|3902015| 5.430073269600002E8|\n",
      "|4391930|5.0294856300000083E8|\n",
      "|5412152| 4.936870630800001E8|\n",
      "|4256015| 4.918700812499997E8|\n",
      "|3813002|      4.7581769134E8|\n",
      "|4517000|4.5687452355999994E8|\n",
      "|9212021|4.5268147015000015E8|\n",
      "|9481052|4.4760912650999993E8|\n",
      "|2698105|4.4142169526000005E8|\n",
      "|6217273| 4.231347656400006E8|\n",
      "|4391929|4.0455655515000063E8|\n",
      "|7068146| 4.011877850899999E8|\n",
      "|4255103|      3.9890621361E8|\n",
      "|6217264| 3.978869789700005E8|\n",
      "|6217255|3.9047255380000037E8|\n",
      "|6010007| 3.757892394099999E8|\n",
      "|3953157|      3.7109430201E8|\n",
      "|4973301|3.7092405428000003E8|\n",
      "|4391931|3.7004097676000047E8|\n",
      "|3892035|3.6736454754000014E8|\n",
      "|4405201|3.6174923208000004E8|\n",
      "|9212058|3.5604991349999994E8|\n",
      "|4973347| 3.519094726499999E8|\n",
      "+-------+--------------------+\n",
      "\n"
     ]
    }
   ],
   "source": [
    "sqlContext.read.format(\"org.apache.spark.sql.cassandra\").options(Map( \"table\" -> \"orders\", \"keyspace\" -> \"retail_ks\")).load().\n",
    "registerTempTable(\"orders\")\n",
    "val top50MostSoldProducts = sqlContext.sql(\"SELECT ol.sku, sum(ol.total_price) as sale_value FROM \"+\n",
    "\"(SELECT explode(order_lines_) as ol FROM orders) ols group by ol.sku order by sale_value DESC limit 50\")\n",
    "top50MostSoldProducts.show(100)"
   ]
  },
  {
   "cell_type": "code",
   "execution_count": null,
   "metadata": {
    "collapsed": true
   },
   "outputs": [],
   "source": [
    "top50MostSoldProducts.write.format(\"org.apache.spark.sql.cassandra\").\n",
    "options(Map( \"table\" -> \"top50_selling_products\", \"keyspace\" -> \"retail_ks\")).\n",
    "mode(\"overwrite\").    \n",
    "save()"
   ]
  },
  {
   "cell_type": "code",
   "execution_count": null,
   "metadata": {
    "collapsed": true
   },
   "outputs": [],
   "source": []
  }
 ],
 "metadata": {
  "kernelspec": {
   "display_name": "Spark-DSE Cluster (Scala 2.10.4)",
   "language": "scala",
   "name": "spark-dse-cluster"
  },
  "language_info": {
   "name": "scala"
  }
 },
 "nbformat": 4,
 "nbformat_minor": 0
}
