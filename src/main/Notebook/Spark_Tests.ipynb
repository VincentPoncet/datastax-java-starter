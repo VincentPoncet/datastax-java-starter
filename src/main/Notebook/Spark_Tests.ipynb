{
 "cells": [
  {
   "cell_type": "code",
   "execution_count": 5,
   "metadata": {
    "collapsed": false
   },
   "outputs": [],
   "source": [
    "case class OrderLine (\n",
    "    sku : String,\n",
    "    productName : String,\n",
    "    thumbnailImage: String,\n",
    "    quantity : Double,\n",
    "    unitPrice : Double,\n",
    "    totalPrice : Double\n",
    ")\n",
    "\n",
    "case class Order (\n",
    "    customerId : java.util.UUID ,\n",
    "    orderId : java.util.UUID ,\n",
    "    date : java.util.Date ,\n",
    "    OrderLines_ : List[OrderLine] ,\n",
    "    totalPrice : Double\n",
    ")\n",
    "\n",
    "case class RecommendedProduct (\n",
    "    sku : String,\n",
    "    productName : String,\n",
    "    regularPrice : Double,\n",
    "    thumbnailImage : String\n",
    ");\n",
    "\n",
    "case class ProductRecommendations (\n",
    "    sku : String,\n",
    "    productName : String,\n",
    "    recommendedProducts : List[RecommendedProduct]\n",
    ");\n",
    "\n"
   ]
  },
  {
   "cell_type": "code",
   "execution_count": 11,
   "metadata": {
    "collapsed": false
   },
   "outputs": [],
   "source": [
    "val orders = sc.cassandraTable[Order](\"retail_ks\",\"orders\").cache"
   ]
  },
  {
   "cell_type": "code",
   "execution_count": 12,
   "metadata": {
    "collapsed": false
   },
   "outputs": [
    {
     "data": {
      "text/plain": [
       "Long = 2106"
      ]
     },
     "execution_count": 12,
     "metadata": {},
     "output_type": "execute_result"
    }
   ],
   "source": [
    "orders.count"
   ]
  },
  {
   "cell_type": "code",
   "execution_count": 13,
   "metadata": {
    "collapsed": false
   },
   "outputs": [],
   "source": [
    "val orderlines = orders.flatMap ( order => order.OrderLines_).map( ol => (ol.sku, (ol.productName, ol.thumbnailImage, ol.quantity, ol. unitPrice, ol.totalPrice)))"
   ]
  },
  {
   "cell_type": "code",
   "execution_count": 19,
   "metadata": {
    "collapsed": false
   },
   "outputs": [
    {
     "data": {
      "text/plain": [
       "Array[(String, (String, String, Double, Double, Double))] = Array((4204502,(Insignia™ - 40\" Class (40\" Diag.) - LED - 1080p - Smart - HDTV Roku TV - Black,http://images.bestbuy.com/BestBuy_US/images/pac/products/1313/1313521268/1313521268_s.gif,73.0,329.99,24089.27)), (1654884,(CorLiving - Full-Motion TV Wall Mount for Most 23\" - 42\" Flat-Panel TVs - Black,http://images.bestbuy.com/BestBuy_US/images/products/1654/1654884_s.gif,9.0,39.99,359.91)), (5957224,(Cambridge Audio - Topaz CD10 CD Player - Black,http://images.bestbuy.com/BestBuy_US/images/products/5957/5957224_s.gif,9.0,349.99,3149.91)), (2750462,(BIC America - 5-1/4\" 2-Way Center-Channel Speaker - Black,http://images.bestbuy.com/BestBuy_US/images/products/2750/2750462_s.gif,9.0,89.99,809.91)), (5009300,(Bose® - Solo Sound..."
      ]
     },
     "execution_count": 19,
     "metadata": {},
     "output_type": "execute_result"
    }
   ],
   "source": [
    "orderlines.take(10)"
   ]
  },
  {
   "cell_type": "code",
   "execution_count": 15,
   "metadata": {
    "collapsed": false
   },
   "outputs": [],
   "source": [
    "val soldproducts = orderlines.reduceByKey( (a,b) => (a._1, a._2, a._3+b._3, a._4, a._5+b._5)).\n",
    "    map( { case ( sku, (productName, thumbnailImage, count, unitPrice, value) ) => (sku, productName, thumbnailImage, count, value) })"
   ]
  },
  {
   "cell_type": "code",
   "execution_count": 16,
   "metadata": {
    "collapsed": false
   },
   "outputs": [],
   "source": [
    "val Top50CountSellingProducts = soldproducts.sortBy( { case ( sku, productName, thumbnailImage, count, value ) => -value } ).\n",
    "    zipWithIndex.\n",
    "    filter{case (_, idx) => idx < 50}.\n",
    "    keys"
   ]
  },
  {
   "cell_type": "code",
   "execution_count": 20,
   "metadata": {
    "collapsed": false
   },
   "outputs": [
    {
     "data": {
      "text/plain": [
       "Array[(String, String, String, Double, Double)] = Array((7739048,Samsung - 78\" Class (78\" Diag.) - LED - Curved - 2160p - Smart - 3D - 4K Ultra HD TV - Black,http://images.bestbuy.com/BestBuy_US/images/products/7739/7739048_s.gif,1190.0,1.18999762E7), (4920300,LG - 65\" Class (64.5\" Diag.) - OLED - 2160p - Smart - 3D - 4K Ultra HD TV - Black,http://images.bestbuy.com/BestBuy_US/images/products/4920/4920300_s.gif,1229.0,9831975.42), (3429088,LG - 65\" Class (64.5\" Diag.) - OLED - Curved - 2160p - Smart - 3D - 4K Ultra HD TV - Black,http://images.bestbuy.com/BestBuy_US/images/products/3429/3429088_s.gif,892.0,6243982.159999999), (5034600,Samsung - 65\" Class - (64.5\" Diag.) - LED - Curved - 4K SUHD (2160p) - Smart - 4K Ultra HD TV - Black,http://images.bestbuy.com/BestBuy_US/images/pr..."
      ]
     },
     "execution_count": 20,
     "metadata": {},
     "output_type": "execute_result"
    }
   ],
   "source": [
    "Top50CountSellingProducts.take(10)"
   ]
  },
  {
   "cell_type": "code",
   "execution_count": 18,
   "metadata": {
    "collapsed": false
   },
   "outputs": [],
   "source": [
    "Top50CountSellingProducts.saveToCassandra(\"retail_ks\",\"top50_selling_products\", \n",
    "    SomeColumns(\"sku\", \"product_name\" , \"thumbnail_image\" , \"sale_count\" , \"sale_value\"))"
   ]
  },
  {
   "cell_type": "code",
   "execution_count": 10,
   "metadata": {
    "collapsed": false
   },
   "outputs": [],
   "source": [
    "val ProductCoOccurance = orders.\n",
    "    flatMap( order => order.OrderLines_.\n",
    "        map(  ol => ( ol.sku , order.OrderLines_.\n",
    "            map(ol => (ol.sku, (ol.productName, ol.thumbnailImage, ol.quantity, ol. unitPrice, ol.totalPrice))).filter ( ol3 => ol3._1!=`ol`.sku) \n",
    "                ) \n",
    "            )\n",
    "            ).reduceByKey(_++_).mapValues (\n",
    "                _.groupBy( { case (sku,(pn, ti, q, up, tp)) => sku } ).values.toList.\n",
    "                    map( listOfProduct => listOfProduct.reduce( (a,b) => (a._1, (a._2._1, a._2._2, a._2._3+b._2._3, a._2._4, a._2._5+b._2._5))) ).\n",
    "                    sortBy(-_._2._5).\n",
    "                    map( lop => RecommendedProduct(lop._1, lop._2._1, lop._2._4  , lop._2._2  ))  \n",
    "            ).\n",
    "            map( pco => ProductRecommendations(pco._1, \"\", pco._2))"
   ]
  },
  {
   "cell_type": "code",
   "execution_count": 11,
   "metadata": {
    "collapsed": false
   },
   "outputs": [
    {
     "data": {
      "text/plain": [
       "org.apache.spark.rdd.RDD[productRecommendations] = MapPartitionsRDD[15] at map at <console>:39"
      ]
     },
     "execution_count": 11,
     "metadata": {},
     "output_type": "execute_result"
    }
   ],
   "source": [
    "ProductCoOccurance"
   ]
  },
  {
   "cell_type": "code",
   "execution_count": 12,
   "metadata": {
    "collapsed": false
   },
   "outputs": [
    {
     "name": "stdout",
     "output_type": "stream",
     "text": [
      "productRecommendations(a4a70900-24e1-11df-8924-001ff3591713,,List(recommendedProduct(a4a70900-24e1-11df-8924-001ff3591714,Product3,5.0,http), recommendedProduct(a4a70900-24e1-11df-8924-001ff3591712,Product1,10.0,http), recommendedProduct(a4a70900-24e1-11df-8924-001ff3591715,Product4,1.0,http)))\n",
      "productRecommendations(a4a70900-24e1-11df-8924-001ff3591714,,List(recommendedProduct(a4a70900-24e1-11df-8924-001ff3591713,Product2,1000.0,http), recommendedProduct(a4a70900-24e1-11df-8924-001ff3591712,Product1,5.0,http), recommendedProduct(a4a70900-24e1-11df-8924-001ff3591715,Product4,1.0,http)))\n",
      "productRecommendations(a4a70900-24e1-11df-8924-001ff3591712,,List(recommendedProduct(a4a70900-24e1-11df-8924-001ff3591713,Product2,1000.0,http), recommendedProduct(a4a70900-24e1-11df-8924-001ff3591714,Product3,5.0,http)))\n",
      "productRecommendations(a4a70900-24e1-11df-8924-001ff3591715,,List(recommendedProduct(a4a70900-24e1-11df-8924-001ff3591714,Product3,5.0,http), recommendedProduct(a4a70900-24e1-11df-8924-001ff3591713,Product2,1000.0,http)))\n"
     ]
    }
   ],
   "source": [
    "ProductCoOccurance.collect.foreach(println)"
   ]
  },
  {
   "cell_type": "code",
   "execution_count": 13,
   "metadata": {
    "collapsed": false
   },
   "outputs": [
    {
     "data": {
      "text/plain": [
       "Name: java.lang.IllegalArgumentException\n",
       "Message: Failed to get converter for field \"recommendedProducts\" of type scala.List[recommendedProduct] in productRecommendations mapped to column \"recommended_products\" of \"retail_ks.product_recommendations\" \n",
       "StackTrace: com.datastax.spark.connector.writer.MappedToGettableDataConverter$$anon$1$$anonfun$5.apply(MappedToGettableDataConverter.scala:155)\n",
       "com.datastax.spark.connector.writer.MappedToGettableDataConverter$$anon$1$$anonfun$5.apply(MappedToGettableDataConverter.scala:148)\n",
       "scala.collection.TraversableLike$$anonfun$map$1.apply(TraversableLike.scala:244)\n",
       "scala.collection.TraversableLike$$anonfun$map$1.apply(TraversableLike.scala:244)\n",
       "scala.collection.immutable.Range.foreach(Range.scala:141)\n",
       "scala.collection.TraversableLike$class.map(TraversableLike.scala:244)\n",
       "scala.collection.AbstractTraversable.map(Traversable.scala:105)\n",
       "com.datastax.spark.connector.writer.MappedToGettableDataConverter$$anon$1.<init>(MappedToGettableDataConverter.scala:148)\n",
       "com.datastax.spark.connector.writer.MappedToGettableDataConverter$.apply(MappedToGettableDataConverter.scala:18)\n",
       "com.datastax.spark.connector.writer.DefaultRowWriter.<init>(DefaultRowWriter.scala:17)\n",
       "com.datastax.spark.connector.writer.DefaultRowWriter$$anon$1.rowWriter(DefaultRowWriter.scala:31)\n",
       "com.datastax.spark.connector.writer.DefaultRowWriter$$anon$1.rowWriter(DefaultRowWriter.scala:29)\n",
       "com.datastax.spark.connector.writer.TableWriter$.apply(TableWriter.scala:269)\n",
       "com.datastax.spark.connector.RDDFunctions.saveToCassandra(RDDFunctions.scala:36)\n",
       "$line32.$read$$iwC$$iwC$$iwC$$iwC$$iwC$$iwC.<init>(<console>:30)\n",
       "$line32.$read$$iwC$$iwC$$iwC$$iwC$$iwC.<init>(<console>:35)\n",
       "$line32.$read$$iwC$$iwC$$iwC$$iwC.<init>(<console>:37)\n",
       "$line32.$read$$iwC$$iwC$$iwC.<init>(<console>:39)\n",
       "$line32.$read$$iwC$$iwC.<init>(<console>:41)\n",
       "$line32.$read$$iwC.<init>(<console>:43)\n",
       "$line32.$read.<init>(<console>:45)\n",
       "$line32.$read$.<init>(<console>:49)\n",
       "$line32.$read$.<clinit>(<console>)\n",
       "$line32.$eval$.<init>(<console>:7)\n",
       "$line32.$eval$.<clinit>(<console>)\n",
       "$line32.$eval.$print(<console>)\n",
       "sun.reflect.NativeMethodAccessorImpl.invoke0(Native Method)\n",
       "sun.reflect.NativeMethodAccessorImpl.invoke(NativeMethodAccessorImpl.java:62)\n",
       "sun.reflect.DelegatingMethodAccessorImpl.invoke(DelegatingMethodAccessorImpl.java:43)\n",
       "java.lang.reflect.Method.invoke(Method.java:497)\n",
       "org.apache.spark.repl.SparkIMain$ReadEvalPrint.call(SparkIMain.scala:1065)\n",
       "org.apache.spark.repl.SparkIMain$Request.loadAndRun(SparkIMain.scala:1338)\n",
       "org.apache.spark.repl.SparkIMain.loadAndRunReq$1(SparkIMain.scala:840)\n",
       "org.apache.spark.repl.SparkIMain.interpret(SparkIMain.scala:871)\n",
       "org.apache.spark.repl.SparkIMain.interpret(SparkIMain.scala:819)\n",
       "com.ibm.spark.interpreter.ScalaInterpreter$$anonfun$interpretAddTask$1$$anonfun$apply$3.apply(ScalaInterpreter.scala:298)\n",
       "com.ibm.spark.interpreter.ScalaInterpreter$$anonfun$interpretAddTask$1$$anonfun$apply$3.apply(ScalaInterpreter.scala:293)\n",
       "com.ibm.spark.global.StreamState$.withStreams(StreamState.scala:80)\n",
       "com.ibm.spark.interpreter.ScalaInterpreter$$anonfun$interpretAddTask$1.apply(ScalaInterpreter.scala:292)\n",
       "com.ibm.spark.interpreter.ScalaInterpreter$$anonfun$interpretAddTask$1.apply(ScalaInterpreter.scala:292)\n",
       "com.ibm.spark.utils.TaskManager$$anonfun$add$2$$anon$1.run(TaskManager.scala:123)\n",
       "java.util.concurrent.ThreadPoolExecutor.runWorker(ThreadPoolExecutor.java:1142)\n",
       "java.util.concurrent.ThreadPoolExecutor$Worker.run(ThreadPoolExecutor.java:617)\n",
       "java.lang.Thread.run(Thread.java:745)"
      ]
     },
     "execution_count": 13,
     "metadata": {},
     "output_type": "execute_result"
    }
   ],
   "source": [
    "ProductCoOccurance.saveToCassandra(\"retail_ks\",\"product_recommendations\")"
   ]
  },
  {
   "cell_type": "code",
   "execution_count": 15,
   "metadata": {
    "collapsed": false
   },
   "outputs": [
    {
     "data": {
      "text/plain": [
       "Array[productRecommendations] = Array(productRecommendations(a4a70900-24e1-11df-8924-001ff3591712,Product1,List(recommendedProduct(a4a70900-24e1-11df-8924-001ff3591713,Product2,100.0,http), recommendedProduct(a4a70900-24e1-11df-8924-001ff3591714,Product3,100.0,http))))"
      ]
     },
     "execution_count": 15,
     "metadata": {},
     "output_type": "execute_result"
    }
   ],
   "source": [
    "sc.cassandraTable[productRecommendations](\"retail_ks\",\"product_recommendations\").collect"
   ]
  },
  {
   "cell_type": "code",
   "execution_count": null,
   "metadata": {
    "collapsed": true
   },
   "outputs": [],
   "source": []
  }
 ],
 "metadata": {
  "kernelspec": {
   "display_name": "Spark-DSE Local (Scala 2.10.4)",
   "language": "scala",
   "name": "spark-dse-local"
  },
  "language_info": {
   "name": "scala"
  }
 },
 "nbformat": 4,
 "nbformat_minor": 0
}
