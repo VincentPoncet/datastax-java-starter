{
 "cells": [
  {
   "cell_type": "code",
   "execution_count": 14,
   "metadata": {
    "collapsed": false
   },
   "outputs": [],
   "source": [
    "case class OrderLine (\n",
    "    sku: String,\n",
    "    productName: String,\n",
    "    unitPrice: Double,\n",
    "    totalPrice: Double\n",
    ")\n",
    "\n",
    "case class Order (\n",
    "    customer_id: java.util.UUID ,\n",
    "    order_id: java.util.UUID ,\n",
    "    date: java.util.Date ,\n",
    "    OrderLines: List[OrderLine] ,\n",
    "    totalPrice: Double\n",
    ")\n",
    "\n",
    "val hc = new org.apache.spark.sql.hive.HiveContext(sc)\n",
    "import hc.implicits._\n",
    "\n",
    "\n"
   ]
  },
  {
   "cell_type": "code",
   "execution_count": 15,
   "metadata": {
    "collapsed": false
   },
   "outputs": [
    {
     "name": "stdout",
     "output_type": "stream",
     "text": [
      "+--------------------+--------------------+--------------------+--------------------+-----------+\n",
      "|         customer_id|            order_id|                date|        order_lines_|total_price|\n",
      "+--------------------+--------------------+--------------------+--------------------+-----------+\n",
      "|a4a70900-24e1-11d...|37e2d721-fa57-11e...|1970-01-01 01:00:...|List([a4a70900-24...|      550.0|\n",
      "|a4a70900-24e1-11d...|37e261f1-fa57-11e...|1970-01-01 01:00:...|List([a4a70900-24...|      501.0|\n",
      "|a4a70900-24e1-11d...|37e213d1-fa57-11e...|1970-01-01 01:00:...|List([a4a70900-24...|     1100.0|\n",
      "+--------------------+--------------------+--------------------+--------------------+-----------+\n",
      "\n"
     ]
    }
   ],
   "source": [
    "val df = hc.read.format(\"org.apache.spark.sql.cassandra\").\n",
    "options(Map(\"keyspace\"->\"retail_ks\", \"table\" -> \"orders\")).\n",
    "load()"
   ]
  },
  {
   "cell_type": "code",
   "execution_count": null,
   "metadata": {
    "collapsed": true
   },
   "outputs": [],
   "source": [
    "df.show"
   ]
  },
  {
   "cell_type": "code",
   "execution_count": null,
   "metadata": {
    "collapsed": true
   },
   "outputs": [],
   "source": []
  }
 ],
 "metadata": {
  "kernelspec": {
   "display_name": "Spark-DSE Local (Scala 2.10.4)",
   "language": "scala",
   "name": "spark-dse-local"
  },
  "language_info": {
   "name": "scala"
  }
 },
 "nbformat": 4,
 "nbformat_minor": 0
}
