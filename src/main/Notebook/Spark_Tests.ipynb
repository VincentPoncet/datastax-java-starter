{
 "cells": [
  {
   "cell_type": "code",
   "execution_count": 1,
   "metadata": {
    "collapsed": false
   },
   "outputs": [],
   "source": [
    "case class OrderLine (\n",
    "    sku : String,\n",
    "    productName : String,\n",
    "    thumbnailImage: String,\n",
    "    quantity : Double,\n",
    "    unitPrice : Double,\n",
    "    totalPrice : Double\n",
    ")\n",
    "\n",
    "case class Order (\n",
    "    customerId : java.util.UUID ,\n",
    "    orderId : java.util.UUID ,\n",
    "    date : java.util.Date ,\n",
    "    OrderLines_ : List[OrderLine] ,\n",
    "    totalPrice : Double\n",
    ")\n",
    "\n",
    "case class RecommendedProduct (\n",
    "    sku : String,\n",
    "    product_name : String,\n",
    "    regular_price : Double,\n",
    "    thumbnail_image : String\n",
    ");\n",
    "\n",
    "case class ProductRecommendations (\n",
    "    sku : String,\n",
    "    product_name : String,\n",
    "    recommended_products : List[RecommendedProduct]\n",
    ");\n",
    "\n",
    "case class Top50SellingProducts (\n",
    "    sku : String,\n",
    "    productName : String,\n",
    "    saleCount : Double,\n",
    "    saleValue : Double,\n",
    "    thumbnailImage : String\n",
    ");\n",
    "\n"
   ]
  },
  {
   "cell_type": "code",
   "execution_count": 2,
   "metadata": {
    "collapsed": false
   },
   "outputs": [],
   "source": [
    "val orders = sc.cassandraTable[Order](\"retail_ks\",\"orders\").cache"
   ]
  },
  {
   "cell_type": "code",
   "execution_count": 3,
   "metadata": {
    "collapsed": false
   },
   "outputs": [
    {
     "data": {
      "text/plain": [
       "Long = 2106"
      ]
     },
     "execution_count": 3,
     "metadata": {},
     "output_type": "execute_result"
    }
   ],
   "source": [
    "orders.count"
   ]
  },
  {
   "cell_type": "code",
   "execution_count": 4,
   "metadata": {
    "collapsed": false
   },
   "outputs": [],
   "source": [
    "val orderlines = orders.flatMap ( order => order.OrderLines_).map( ol => (ol.sku, (ol.productName, ol.thumbnailImage, ol.quantity, ol. unitPrice, ol.totalPrice)))"
   ]
  },
  {
   "cell_type": "code",
   "execution_count": 5,
   "metadata": {
    "collapsed": false
   },
   "outputs": [
    {
     "data": {
      "text/plain": [
       "Array[(String, (String, String, Double, Double, Double))] = Array((4204502,(Insignia™ - 40\" Class (40\" Diag.) - LED - 1080p - Smart - HDTV Roku TV - Black,http://images.bestbuy.com/BestBuy_US/images/pac/products/1313/1313521268/1313521268_s.gif,73.0,329.99,24089.27)), (1654884,(CorLiving - Full-Motion TV Wall Mount for Most 23\" - 42\" Flat-Panel TVs - Black,http://images.bestbuy.com/BestBuy_US/images/products/1654/1654884_s.gif,9.0,39.99,359.91)), (5957224,(Cambridge Audio - Topaz CD10 CD Player - Black,http://images.bestbuy.com/BestBuy_US/images/products/5957/5957224_s.gif,9.0,349.99,3149.91)), (2750462,(BIC America - 5-1/4\" 2-Way Center-Channel Speaker - Black,http://images.bestbuy.com/BestBuy_US/images/products/2750/2750462_s.gif,9.0,89.99,809.91)), (5009300,(Bose® - Solo Soundb..."
      ]
     },
     "execution_count": 5,
     "metadata": {},
     "output_type": "execute_result"
    }
   ],
   "source": [
    "orderlines.take(10)"
   ]
  },
  {
   "cell_type": "code",
   "execution_count": 6,
   "metadata": {
    "collapsed": true
   },
   "outputs": [],
   "source": [
    "val soldproducts = orderlines.reduceByKey( (a,b) => (a._1, a._2, a._3+b._3, a._4, a._5+b._5)).\n",
    "    map( { case ( sku, (productName, thumbnailImage, count, unitPrice, value) ) => Top50SellingProducts (sku, productName, count, value, thumbnailImage) })"
   ]
  },
  {
   "cell_type": "code",
   "execution_count": 7,
   "metadata": {
    "collapsed": false
   },
   "outputs": [],
   "source": [
    "val Top50CountSellingProducts = soldproducts.sortBy(  -_.saleValue  ).\n",
    "    zipWithIndex.\n",
    "    filter{case (_, idx) => idx < 50}.\n",
    "    keys"
   ]
  },
  {
   "cell_type": "code",
   "execution_count": 8,
   "metadata": {
    "collapsed": false
   },
   "outputs": [
    {
     "data": {
      "text/plain": [
       "Array[Top50SellingProducts] = Array(Top50SellingProducts(7739048,Samsung - 78\" Class (78\" Diag.) - LED - Curved - 2160p - Smart - 3D - 4K Ultra HD TV - Black,1190.0,1.18999762E7,http://images.bestbuy.com/BestBuy_US/images/products/7739/7739048_s.gif))"
      ]
     },
     "execution_count": 8,
     "metadata": {},
     "output_type": "execute_result"
    }
   ],
   "source": [
    "Top50CountSellingProducts.take(1)"
   ]
  },
  {
   "cell_type": "code",
   "execution_count": 9,
   "metadata": {
    "collapsed": false
   },
   "outputs": [],
   "source": [
    "Top50CountSellingProducts.saveToCassandra(\"retail_ks\",\"top50_selling_products\" )"
   ]
  },
  {
   "cell_type": "code",
   "execution_count": 52,
   "metadata": {
    "collapsed": false
   },
   "outputs": [],
   "source": [
    "val ProductCoOccurance = orders.\n",
    "    flatMap( order => order.OrderLines_.\n",
    "        map(  ol => ( ol.sku , order.OrderLines_.\n",
    "            map(ol => (ol.sku, (ol.productName, ol.thumbnailImage, ol.quantity, ol. unitPrice, ol.totalPrice))).filter ( ol3 => ol3._1!=`ol`.sku) \n",
    "                ) // for each order, make a list of product cooccurance (product1, product2)\n",
    "            )\n",
    "            ).reduceByKey(_++_). // merge the list per product1\n",
    "                mapValues { x =>     \n",
    "                // for each product1, merge list on key product2\n",
    "               val groupedBySku = x.groupBy( { case (sku,(pn, ti, q, up, tp)) => sku } ).values.toList\n",
    "               // aggregate value sum of product2\n",
    "               val TotalSumBySku = groupedBySku.map( listOfProduct => listOfProduct.reduce( (a,b) => (a._1, (a._2._1, a._2._2, a._2._3+b._2._3, a._2._4, a._2._5+b._2._5))) )\n",
    "               // take top50 product2 sorted on summed value\n",
    "               val Top50Value = TotalSumBySku.sortBy(-_._2._5).slice(0,50)\n",
    "               Top50Value.map( lop => RecommendedProduct(lop._1, lop._2._1, lop._2._4  , lop._2._2  )) \n",
    "               // merge\n",
    "                        }.\n",
    "            map( pco => ProductRecommendations(pco._1, \"\", pco._2))"
   ]
  },
  {
   "cell_type": "code",
   "execution_count": 11,
   "metadata": {
    "collapsed": true
   },
   "outputs": [],
   "source": [
    "val sqlContext = new org.apache.spark.sql.hive.HiveContext(sc)\n",
    "import sqlContext.implicits._"
   ]
  },
  {
   "cell_type": "code",
   "execution_count": 12,
   "metadata": {
    "collapsed": false
   },
   "outputs": [
    {
     "name": "stdout",
     "output_type": "stream",
     "text": [
      "root\n",
      " |-- sku: string (nullable = true)\n",
      " |-- product_name: string (nullable = true)\n",
      " |-- recommended_products: array (nullable = true)\n",
      " |    |-- element: struct (containsNull = true)\n",
      " |    |    |-- sku: string (nullable = true)\n",
      " |    |    |-- product_name: string (nullable = true)\n",
      " |    |    |-- regular_price: double (nullable = false)\n",
      " |    |    |-- thumbnail_image: string (nullable = true)\n",
      "\n"
     ]
    }
   ],
   "source": [
    "val pcodf = ProductCoOccurance.toDF\n",
    "pcodf.printSchema"
   ]
  },
  {
   "cell_type": "code",
   "execution_count": 13,
   "metadata": {
    "collapsed": false
   },
   "outputs": [],
   "source": [
    "pcodf.write.format(\"org.apache.spark.sql.cassandra\").\n",
    "    options(Map( \"table\" -> \"product_recommendations\", \"keyspace\" -> \"retail_ks\")).\n",
    "    mode(\"overwrite\").\n",
    "    save()\n"
   ]
  },
  {
   "cell_type": "code",
   "execution_count": null,
   "metadata": {
    "collapsed": false
   },
   "outputs": [],
   "source": [
    "ProductCoOccurance.collect.foreach(println)"
   ]
  },
  {
   "cell_type": "code",
   "execution_count": null,
   "metadata": {
    "collapsed": false
   },
   "outputs": [],
   "source": [
    "ProductCoOccurance.saveToCassandra(\"retail_ks\",\"product_recommendations\")"
   ]
  },
  {
   "cell_type": "code",
   "execution_count": null,
   "metadata": {
    "collapsed": false
   },
   "outputs": [],
   "source": [
    "sc.cassandraTable[productRecommendations](\"retail_ks\",\"product_recommendations\").collect"
   ]
  },
  {
   "cell_type": "code",
   "execution_count": 53,
   "metadata": {
    "collapsed": false
   },
   "outputs": [],
   "source": [
    "val pcodf_read = sqlContext.read.format(\"org.apache.spark.sql.cassandra\").\n",
    "\toptions(Map( \"table\" -> \"product_recommendations\", \"keyspace\" -> \"retail_ks\")).\n",
    "\tload()\n"
   ]
  },
  {
   "cell_type": "code",
   "execution_count": 54,
   "metadata": {
    "collapsed": false
   },
   "outputs": [
    {
     "data": {
      "text/plain": [
       "Long = 301"
      ]
     },
     "execution_count": 54,
     "metadata": {},
     "output_type": "execute_result"
    }
   ],
   "source": [
    "pcodf_read.count"
   ]
  },
  {
   "cell_type": "code",
   "execution_count": 23,
   "metadata": {
    "collapsed": false
   },
   "outputs": [
    {
     "data": {
      "text/plain": [
       "Array[ProductRecommendations] = Array(ProductRecommendations(9300273,,List(RecommendedProduct(4920300,LG - 65\" Class (64.5\" Diag.) - OLED - 2160p - Smart - 3D - 4K Ultra HD TV - Black,7999.98,http://images.bestbuy.com/BestBuy_US/images/products/4920/4920300_s.gif), RecommendedProduct(5034600,Samsung - 65\" Class - (64.5\" Diag.) - LED - Curved - 4K SUHD (2160p) - Smart - 4K Ultra HD TV - Black,3399.99,http://images.bestbuy.com/BestBuy_US/images/products/5034/5034600_s.gif), RecommendedProduct(3429111,LG - 65\" Class (64.5\" Diag.) - LED - 2160p - Smart - 3D - 4K Ultra HD TV - Black,2499.99,http://images.bestbuy.com/BestBuy_US/images/products/3429/3429111_s.gif), RecommendedProduct(5182036,Samsung - 75\" Class (74.5\" Diag.) - LED - 2160p - Smart - 4K Ultra HD TV - Black,3999.99,http://..."
      ]
     },
     "execution_count": 23,
     "metadata": {},
     "output_type": "execute_result"
    }
   ],
   "source": [
    "ProductCoOccurance.take(1)"
   ]
  },
  {
   "cell_type": "code",
   "execution_count": 32,
   "metadata": {
    "collapsed": false
   },
   "outputs": [
    {
     "name": "stdout",
     "output_type": "stream",
     "text": [
      "ProductRecommendations(9300273,,List(RecommendedProduct(4920300,LG - 65\" Class (64.5\" Diag.) - OLED - 2160p - Smart - 3D - 4K Ultra HD TV - Black,7999.98,http://images.bestbuy.com/BestBuy_US/images/products/4920/4920300_s.gif), RecommendedProduct(5034600,Samsung - 65\" Class - (64.5\" Diag.) - LED - Curved - 4K SUHD (2160p) - Smart - 4K Ultra HD TV - Black,3399.99,http://images.bestbuy.com/BestBuy_US/images/products/5034/5034600_s.gif), RecommendedProduct(3429111,LG - 65\" Class (64.5\" Diag.) - LED - 2160p - Smart - 3D - 4K Ultra HD TV - Black,2499.99,http://images.bestbuy.com/BestBuy_US/images/products/3429/3429111_s.gif), RecommendedProduct(5182036,Samsung - 75\" Class (74.5\" Diag.) - LED - 2160p - Smart - 4K Ultra HD TV - Black,3999.99,http://images.bestbuy.com/BestBuy_US/images/pac/products/1312/1312458046/1312458046_s.gif), RecommendedProduct(5035005,Samsung - 55\" Class - (54.6\" Diag.) - LED - Curved - 4K SUHD (2160p) - Smart - 4K Ultra HD TV - Black,2999.98,http://images.bestbuy.com/BestBuy_US/images/products/5035/5035005_s.gif), RecommendedProduct(2698105,Sony - 43\" Class (42.5\" Diag.) - LED - 2160p - Smart - 4K Ultra HD TV - Black,899.99,http://images.bestbuy.com/BestBuy_US/images/products/2698/2698105_s.gif), RecommendedProduct(6273121,Samsung - 48\" Class (47.6\" Diag.) - LED - Curved - 2160p - Smart - 3D - 4K Ultra HD TV - Black,2299.98,http://images.bestbuy.com/BestBuy_US/images/products/6273/6273121_s.gif), RecommendedProduct(4575002,Samsung - 60\" Class (60\" Diag.) - LED - 2160p - Smart - 4K Ultra HD TV - Black,1999.98,http://images.bestbuy.com/BestBuy_US/images/pac/products/1313/1313397740/1313397740_s.gif), RecommendedProduct(9481052,Samsung - 48\" Class (47.6\" Diag.) - LED - 2160p - Smart - 4K Ultra HD TV - Black,899.99,http://images.bestbuy.com/BestBuy_US/images/pac/products/1313/1313452296/1313452296_s.gif), RecommendedProduct(4213306,Samsung - 55\" Class (54.6\" Diag.) - LED - 2160p - Smart - 4K Ultra HD TV - Black,1599.99,http://images.bestbuy.com/BestBuy_US/images/pac/products/1313/1313095295/1313095295_s.gif), RecommendedProduct(5029501,LG - 55\" Class - (54.6\" Diag.) - LED - 1080p - Smart - HDTV - Black,699.99,http://images.bestbuy.com/BestBuy_US/images/products/5029/5029501_s.gif), RecommendedProduct(4204503,Insignia™ - 55\" Class (54.6\" Diag.) - LED - 1080p - HDTV - Black,499.99,http://images.bestbuy.com/BestBuy_US/images/pac/products/1313/1313521275/1313521275_s.gif), RecommendedProduct(3813002,Samsung - 50\" Class (49.5\" Diag.) - LED - 2160p - Smart - 4K Ultra HD TV - Black,949.99,http://images.bestbuy.com/BestBuy_US/images/pac/products/1312/1312401912/1312401912_s.gif), RecommendedProduct(4380092,Samsung - 40\" Class (40\" Diag.) - LED - 1080p - Smart - HDTV - Black,549.99,http://images.bestbuy.com/BestBuy_US/images/pac/products/1312/1312456806/1312456806_s.gif), RecommendedProduct(6217273,Da-Lite - Tensioned Contour Electrol 119\" Electric Projector Screen - Black,2949.99,http://images.bestbuy.com/BestBuy_US/images/products/6217/6217273_s.gif), RecommendedProduct(4204506,Insignia ™ - 55\" Class (54.5\" Diag.) - LED - 4K Ultra HD TV - Smart - Roku TV - Black,649.99,http://images.bestbuy.com/BestBuy_US/images/pac/products/1313/1313520735/1313520735_s.gif), RecommendedProduct(3953148,Samsung - 55\" Class (54.6\" Diag.) - LED - 2160p - Smart - 4K Ultra HD TV - Black,1199.99,http://images.bestbuy.com/BestBuy_US/images/pac/products/1312/1312401929/1312401929_s.gif), RecommendedProduct(6217255,Da-Lite - Tensioned Contour Electrol 92\" Electric Projector Screen - Black,2699.99,http://images.bestbuy.com/BestBuy_US/images/products/6217/6217255_s.gif), RecommendedProduct(4391929,Bose® - Lifestyle® SoundTouch® 525 Entertainment System - Black,2799.99,http://images.bestbuy.com/BestBuy_US/images/products/4391/4391929_s.gif), RecommendedProduct(9548894,BDI - Avion Noir Series II TV Stand for Flat-Panel TVs Up to 60\" - Black,1799.98,http://images.bestbuy.com/BestBuy_US/images/products/9548/9548894_s.gif), RecommendedProduct(4310303,Bose® - SoundTouch® 130 Home Theater System - Black,1499.99,http://images.bestbuy.com/BestBuy_US/images/products/4310/4310303_s.gif), RecommendedProduct(5674002,Samsung - 40\" Class (40\" Diag.) - LED - 1080p - Smart - HDTV - Black,479.99,http://images.bestbuy.com/BestBuy_US/images/pac/products/1311/1311420570/1311420570_s.gif), RecommendedProduct(4516801,LG - 49\" Class (48.5\" Diag.) - LED - 1080p - HDTV - Black,479.99,http://images.bestbuy.com/BestBuy_US/images/pac/products/1313/1313392226/1313392226_s.gif), RecommendedProduct(2048535,Insignia™ - 48\" Class (47.6\" Diag.) - LED - 1080p - HDTV - Black,379.99,http://images.bestbuy.com/BestBuy_US/images/pac/products/1313/1313519845/1313519845_s.gif), RecommendedProduct(4391930,Bose® - Lifestyle® SoundTouch® 535 Entertainment System - Black,3499.99,http://images.bestbuy.com/BestBuy_US/images/products/4391/4391930_s.gif), RecommendedProduct(1213167,Insignia™ - 39\" Class (38.5\" Diag.) - LED - 720p - HDTV - Black,239.99,http://images.bestbuy.com/BestBuy_US/images/products/1213/1213167_s.gif), RecommendedProduct(3395019,Bowers & Wilkins - 10\" 200W Active Subwoofer - Black,649.99,http://img.bbystatic.com/BestBuy_US/images/products/3395/3395019_r.gif), RecommendedProduct(5555039,Samsung - 32\" Class (31.5\" Diag.) - LED - 1080p - Smart - HDTV - Black,319.99,http://images.bestbuy.com/BestBuy_US/images/pac/products/1313/1313485157/1313485157_s.gif), RecommendedProduct(1052096,Insignia™ - 28\" Class (27.5\" Diag.) - LED - 720p - HDTV - Black,159.99,http://images.bestbuy.com/BestBuy_US/images/products/1052/1052096_s.gif), RecommendedProduct(4256015,Sharp - AQUOS - 55\" Class (54.6\" Diag.) - LED - 2160p - Smart - 4K Ultra HD TV - Black,999.99,http://images.bestbuy.com/BestBuy_US/images/products/4256/4256015_s.gif), RecommendedProduct(4558802,Sony - 32\" Class (31.5\" Diag.) - LED - 1080p - HDTV - Black,169.99,http://images.bestbuy.com/BestBuy_US/images/products/4558/4558802_s.gif), RecommendedProduct(3813048,Samsung - 32\" Class (31-1/2\" Diag.) - LED - 1080p - HDTV - Black,269.99,http://images.bestbuy.com/BestBuy_US/images/pac/products/1312/1312677980/1312677980_s.gif), RecommendedProduct(4391931,Bose® - Lifestyle® SoundTouch® 135 Entertainment System - Black,2599.99,http://images.bestbuy.com/BestBuy_US/images/products/4391/4391931_s.gif), RecommendedProduct(7416089,Cerwin Vega - 12\" 250W Powered Subwoofer - Ash Black,499.99,http://images.bestbuy.com/BestBuy_US/images/products/7416/7416089_s.gif), RecommendedProduct(4825048,Bowers & Wilkins - 600 Series 684 S2 Dual 5\" 2-Way Floorstanding Loudspeaker (Each) - Black,575.98,http://img.bbystatic.com/BestBuy_US/images/products/4825/4825048_r.gif), RecommendedProduct(4827028,Bowers & Wilkins - 600 Series HTM61 S2 Dual 6-1/2\" 3-Way Center-Channel Speaker - Black,749.98,http://img.bbystatic.com/BestBuy_US/images/products/4827/4827028_r.gif), RecommendedProduct(4405201,Samsung - 50\" Class (49.5\" Diag.) - LED - 1080p - Smart - HDTV - Black,699.99,http://images.bestbuy.com/BestBuy_US/images/products/4405/4405201_s.gif), RecommendedProduct(4827037,Bowers & Wilkins - 600 Series 685 S2 6-1/2\" 2-Way Loudspeakers (Pair) - Black,699.98,http://img.bbystatic.com/BestBuy_US/images/products/4827/4827037_r.gif), RecommendedProduct(1039004,Insignia™ - 24\" Class (23.6\" Diag.) - LED - 720p - HDTV DVD Combo - Black,169.99,http://images.bestbuy.com/BestBuy_US/images/products/1039/1039004_s.gif), RecommendedProduct(5185184,Samsung - 50\" Class (49.5\" Diag.) - LED - 2160p - Smart - 3D - 4K Ultra HD TV - Black,1499.98,http://images.bestbuy.com/BestBuy_US/images/pac/products/1312/1312671568/1312671568_s.gif), RecommendedProduct(8374087,Definitive Technology - W Studio Soundbar with 8\" Wireless Subwoofer and Wi-Fi Music Streaming - Black,1299.98,http://images.bestbuy.com/BestBuy_US/images/pac/products/1312/1312127737/1312127737_s.gif), RecommendedProduct(8040004,Samsung - 24\" Class (23-5/8\" Diag.) - LED - 720p - Smart - HDTV - Black,199.99,http://images.bestbuy.com/BestBuy_US/images/products/8040/8040004_s.gif), RecommendedProduct(4368058,Bose® - Acoustimass® 6 Series V Home Theater Speaker System - Black,699.99,http://images.bestbuy.com/BestBuy_US/images/products/4368/4368058_s.gif), RecommendedProduct(3395028,Bowers & Wilkins - 8\" 200W Active Subwoofer - Black,499.99,http://img.bbystatic.com/BestBuy_US/images/products/3395/3395028_r.gif), RecommendedProduct(7338838,Chief - Reaction Full-Motion TV Wall Mount for 42\" - 71\" Flat-Panel TVs - Extends 37\" - Black,699.98,http://images.bestbuy.com/BestBuy_US/images/products/7338/7338838_s.gif), RecommendedProduct(5050057,Elite Screens - ezFrame 100\" Home Theater Projector Screen - Black,729.99,http://images.bestbuy.com/BestBuy_US/images/products/5050/5050057_s.gif), RecommendedProduct(8451121,Samsung - 24\" Class (23-5/8\" Diag.) - LED- 720p - HDTV - Black,169.99,http://images.bestbuy.com/BestBuy_US/images/pac/products/1311/1311288712/1311288712_s.gif), RecommendedProduct(4595047,Bowers & Wilkins - 3\" 1-Way In-Ceiling Speakers (Pair) - Black,499.98,http://images.bestbuy.com/BestBuy_US/images/products/4595/4595047_s.gif), RecommendedProduct(4310305,Bose® - SoundTouch® 120 Home Theater System - Black,1099.99,http://images.bestbuy.com/BestBuy_US/images/products/4310/4310305_s.gif), RecommendedProduct(2165036,Bowers & Wilkins - CCM 683 8\" 2-Way In-Ceiling Speakers (Pair) - Black,849.98,http://images.bestbuy.com/BestBuy_US/images/products/2165/2165036_s.gif), RecommendedProduct(2155524,Bowers & Wilkins - 6\" 2-Way In-Ceiling Speaker (Each) - Black,499.98,http://images.bestbuy.com/BestBuy_US/images/products/2155/2155524_s.gif), RecommendedProduct(7014378,Boston Acoustics - ASW250 10\" 250W Down-Firing Powered Subwoofer - Black,349.99,http://images.bestbuy.com/BestBuy_US/images/products/7014/7014378_s.gif), RecommendedProduct(4160021,JBL - Soundbar with 6.5\" Wireless Subwoofer - Black,399.99,http://images.bestbuy.com/BestBuy_US/images/products/4160/4160021_s.gif), RecommendedProduct(3907074,Bell`O - Triple Play A/V System for Most Flat-Panel TVs Up to 55\" - Black,199.99,http://images.bestbuy.com/BestBuy_US/images/products/3907/3907074_s.gif), RecommendedProduct(5957224,Cambridge Audio - Topaz CD10 CD Player - Black,349.99,http://images.bestbuy.com/BestBuy_US/images/products/5957/5957224_s.gif), RecommendedProduct(1206044,Barska - Edge Sound Deck TR-200 Soundbar - Black,499.99,http://images.bestbuy.com/BestBuy_US/images/products/1206/1206044_s.gif), RecommendedProduct(6639328,Definitive Technology - Mythos 2-way 175 W Speaker - Pack of 1 - Black,399.99,http://images.bestbuy.com/BestBuy_US/images/products/6639/6639328_s.gif), RecommendedProduct(1276947,Chief - Thinstall Swing Arm TV Wall Mount for Most 37-58\" Flat-Panel TVs - Extends 25\" - Black,499.98,http://images.bestbuy.com/BestBuy_US/images/products/1276/1276947_s.gif), RecommendedProduct(4299636,Bose® - 251® Environmental Speakers (Pair) - Black,399.99,http://img.bbystatic.com/BestBuy_US/images/products/4299/4299636_s.gif), RecommendedProduct(9848297,Chief - Fusion Pull-Out TV Wall Mount for Most 37\" - 63\" Flat-Panel TVs - Black,412.99,http://images.bestbuy.com/BestBuy_US/images/products/9848/9848297_s.gif), RecommendedProduct(4119605,Chief - Thinstall TV Wall Mount for Most 30\" - 52\" Flat-Panel TVs - Extends 25\" - Black,329.99,http://images.bestbuy.com/BestBuy_US/images/products/4119/4119605_s.gif), RecommendedProduct(1206026,Barska - Edge Sound Deck TR-100 Soundbar - Black,399.99,http://images.bestbuy.com/BestBuy_US/images/products/1206/1206026_s.gif), RecommendedProduct(2903801,Atlona - 1 x 4 HDMI Distribution Amplifier - Black,429.99,http://images.bestbuy.com/BestBuy_US/images/products/2903/2903801_s.gif), RecommendedProduct(4746225,Bose® - 201® Series V Direct/Reflecting® Speaker System - Black,219.98,http://img.bbystatic.com/BestBuy_US/images/products/4746/4746225_s.gif), RecommendedProduct(4316002,Bose® - SoundTouch® 30 Series III Wireless Music System - Black,499.99,http://images.bestbuy.com/BestBuy_US/images/products/4316/4316002_s.gif), RecommendedProduct(4457100,Audio-Technica - DJ Turntable - Black,499.99,http://images.bestbuy.com/BestBuy_US/images/products/4457/4457100_s.gif), RecommendedProduct(2351018,Sharp - 32\" Class (31.5\" Diag.) - LED - 1080p - HDTV - Black,229.99,http://images.bestbuy.com/BestBuy_US/images/products/2351/2351018_s.gif), RecommendedProduct(4320200,Bose® - Wave® SoundTouch® Music System IV - Black,599.99,http://images.bestbuy.com/BestBuy_US/images/products/4320/4320200_s.gif), RecommendedProduct(1485027,Boston Acoustics - Voyager 40 4-1/2\" 2-Way Outdoor Speakers (Pair) - Black,299.99,http://images.bestbuy.com/BestBuy_US/images/products/1485/1485027_s.gif), RecommendedProduct(4310304,Bose® - SoundTouch® 20 Series III Wireless Music System - Black,349.99,http://images.bestbuy.com/BestBuy_US/images/products/4310/4310304_s.gif), RecommendedProduct(4316000,Bose® - SoundTouch® 10 Wireless Music System - Black,199.99,http://images.bestbuy.com/BestBuy_US/images/products/4316/4316000_s.gif), RecommendedProduct(4225156,Bell`O - Full-Motion TV Wall Mount for Most 32\" - 52\" Flat-Panel TVs - Extends 13-1/4\" - Black,179.99,http://images.bestbuy.com/BestBuy_US/images/products/4225/4225156_s.gif), RecommendedProduct(9527001,JBL - Arena B15 5.5\" 2-Way Bookshelf Loudspeakers (Pair) - Black,199.99,http://images.bestbuy.com/BestBuy_US/images/products/9527/9527001_s.gif), RecommendedProduct(1232778,Elite Screens - Spectrum Series 84\" Motorized Projector Screen - Black,197.99,http://images.bestbuy.com/BestBuy_US/images/products/1232/1232778_s.gif), RecommendedProduct(1206053,Barska - Ion XT-200 Soundbar - Birch,499.99,http://images.bestbuy.com/BestBuy_US/images/products/1206/1206053_s.gif), RecommendedProduct(4984029,JBL - Cinema SB400 Soundbar with 8\" Wireless Subwoofer - Black,499.99,http://images.bestbuy.com/BestBuy_US/images/products/4984/4984029_s.gif), RecommendedProduct(5022900,Kanto - TV Wall Mount For Most 37\" - 65\" LCD / Plasma Panel / AV Systems - Black,139.99,http://images.bestbuy.com/BestBuy_US/images/products/5022/5022900_s.gif), RecommendedProduct(7338801,Chief - Reaction Full-Motion Wall Mount for 42\" - 60\" Flat -Panel TVs - Extends 25\" - Black,561.99,http://img.bbystatic.com/BestBuy_US/images/products/7338/7338801_s.gif), RecommendedProduct(4826001,Bowers & Wilkins - 600 Series 686 S2 5\" 2-Way Bookshelf Loudspeakers (Pair) - Black,550.98,http://img.bbystatic.com/BestBuy_US/images/products/4826/4826001_r.gif), RecommendedProduct(9204751,JBL - Cinema 510 5.1-Channel Home Theater Speaker System with 6.5\" Powered Subwoofer - Black,299.99,http://images.bestbuy.com/BestBuy_US/images/products/9204/9204751_s.gif), RecommendedProduct(9169598,Chief - Thinstall TV Wall Mount for Most Ultrathin 37\"-63\" Flat-Panel TVs - Black,163.99,http://images.bestbuy.com/BestBuy_US/images/products/9169/9169598_s.gif), RecommendedProduct(6350009,Actiontec - MyWirelessTV2 Wireless Video Transmitter and Receiver - Black,199.99,http://images.bestbuy.com/BestBuy_US/images/products/6350/6350009_s.gif), RecommendedProduct(2590854,Cambridge Audio - Topaz AM10 70W 2-Ch. Integrated Amplifier - Black,349.99,http://images.bestbuy.com/BestBuy_US/images/products/2590/2590854_s.gif), RecommendedProduct(3444974,BIC America - Eviction Series 12\" 475W Powered Subwoofer - Black,219.99,http://images.bestbuy.com/BestBuy_US/images/products/3444/3444974_s.gif), RecommendedProduct(7934023,Kanto - Wall-Mounted Shelving Unit - Black,72.99,http://images.bestbuy.com/BestBuy_US/images/products/7934/7934023_s.gif), RecommendedProduct(1290273,Bowers & Wilkins - 8\" 200-Watt Powered Subwoofer - Black,499.98,http://img.bbystatic.com/BestBuy_US/images/products/1290/1290273_r.gif), RecommendedProduct(4723504,beFree Sound - 5.1-Channel Bluetooth Speaker System - Black,199.99,http://images.bestbuy.com/BestBuy_US/images/products/4723/4723504_s.gif), RecommendedProduct(1565918,Chief - FIT Fixed TV Wall Mount for Most 40\" - 63\" Flat-Panel TVs - Black,119.98,http://img.bbystatic.com/BestBuy_US/images/products/1565/1565918_r.gif), RecommendedProduct(4746449,Bose® - 301® Series V Direct/Reflecting® Speaker System - Black,329.98,http://img.bbystatic.com/BestBuy_US/images/products/4746/4746449_s.gif), RecommendedProduct(4310306,Bose® - Solo 15 Series II TV Sound System - Black,449.99,http://images.bestbuy.com/BestBuy_US/images/products/4310/4310306_s.gif), RecommendedProduct(2750523,BIC America - 10\" 350-Watt Powered Subwoofer - Black,169.99,http://images.bestbuy.com/BestBuy_US/images/products/2750/2750523_s.gif), RecommendedProduct(3835637,BIC America - Formula 6.5\" 2-Way Floorstanding Speaker (Each) - Black,169.99,http://images.bestbuy.com/BestBuy_US/images/products/3835/3835637_s.gif), RecommendedProduct(1206035,Barska - Ion XT-200 Soundbar - Black,499.99,http://images.bestbuy.com/BestBuy_US/images/products/1206/1206035_s.gif), RecommendedProduct(4828009,Bowers & Wilkins - 600 Series 683 S2 Dual 6-1/2\" 3-Way Floorstanding Loudspeaker (Each) - Black,825.98,http://img.bbystatic.com/BestBuy_US/images/products/4828/4828009_r.gif), RecommendedProduct(8848131,Cadence - 10\" 250W Active Subwoofer - Black,74.99,http://images.bestbuy.com/BestBuy_US/images/products/8848/8848131_s.gif), RecommendedProduct(8304612,Definitive Technology - Mythos Gem 4-1/2\" 2-Way Bookshelf Speakers (Each) - Black,349.99,http://img.bbystatic.com/BestBuy_US/images/products/8304/8304612_r.gif), RecommendedProduct(1206017,Barska - Ion XT-100 Soundbar - Black,399.99,http://images.bestbuy.com/BestBuy_US/images/products/1206/1206017_s.gif), RecommendedProduct(2903874,Atlona - 1 x 2 HDMI Distribution Amplifier - Black,299.99,http://images.bestbuy.com/BestBuy_US/images/products/2903/2903874_s.gif), RecommendedProduct(9041708,CorLiving - Full-Motion TV Wall Mount for Most 37\" - 63\" TVs - Extends 20-3/4\" - Black,149.99,http://images.bestbuy.com/BestBuy_US/images/products/9041/9041708_s.gif), RecommendedProduct(7934041,Kanto - Full-Motion TV Wall Mount for Most 37\" - 75\" Flat-Panel TVs - Extends 21.8\" - Black,99.99,http://img.bbystatic.com/BestBuy_US/images/products/7934/7934041_r.gif), RecommendedProduct(9041662,CorLiving - Full-Motion TV Wall Mount for Most 17\" - 37\" TVs - Extends 11\" - Black,59.99,http://images.bestbuy.com/BestBuy_US/images/products/9041/9041662_s.gif), RecommendedProduct(4774101,Boytone - 3-Speed Turntable - Black,89.99,http://images.bestbuy.com/BestBuy_US/images/products/4774/4774101_s.gif), RecommendedProduct(6199162,BIC America - Dual 6.5\" 3-Way Indoor/Outdoor LCR Speaker (Each) - Black,139.99,http://images.bestbuy.com/BestBuy_US/images/products/6199/6199162_s.gif), RecommendedProduct(8185064,Chief - Tilting TV Wall Mount for Most 10\" - 32\" Flat-Panel Displays - Extends 16\" - Black,106.99,http://images.bestbuy.com/BestBuy_US/images/products/8185/8185064_s.gif), RecommendedProduct(2770017,BIC America - 6-1/2\" 2-Way Bookshelf Speakers (Pair) - Black,139.99,http://images.bestbuy.com/BestBuy_US/images/products/2770/2770017_s.gif), RecommendedProduct(4769093,Chief - Thinstall TV Wall Mount for Most 26\" - 52\" Flat-Panel TVs - Extends 18\" - Black,288.99,http://images.bestbuy.com/BestBuy_US/images/products/4769/4769093_s.gif), RecommendedProduct(6199259,BIC America - 12\" 500W Powered Subwoofer - Black,249.99,http://images.bestbuy.com/BestBuy_US/images/products/6199/6199259_s.gif), RecommendedProduct(5009300,Bose® - Solo Soundbar - Black,249.99,http://images.bestbuy.com/BestBuy_US/images/products/5009/5009300_s.gif), RecommendedProduct(6355632,Bose® - 151® SE Environmental Speakers (Pair) - Black,279.99,http://img.bbystatic.com/BestBuy_US/images/products/6355/6355632_s.gif), RecommendedProduct(5078300,Bell`O - 6-1/2\" 40W Powered Subwoofer - Black,117.99,http://images.bestbuy.com/BestBuy_US/images/products/5078/5078300_s.gif), RecommendedProduct(9747077,Antennas Direct - ClearStream Micron Indoor Long-Range Digital TV Antenna - Black,69.99,http://images.bestbuy.com/BestBuy_US/images/products/9747/9747077_s.gif), RecommendedProduct(7963732,Chief - Tilting TV Wall Mount for Most Flat-Panel TVs Up to 63\" - Black,247.99,http://img.bbystatic.com/BestBuy_US/images/products/7963/7963732_r.gif), RecommendedProduct(5095304,Boston Acoustics - Bravo 4-1/2\" 2-way Speaker (Each) - Black,199.99,http://images.bestbuy.com/BestBuy_US/images/products/5095/5095304_s.gif), RecommendedProduct(4443301,Kanto - Tilting TV Wall Mount for Most 32\" - 60\" Flat-Panel TVs - Black,59.99,http://images.bestbuy.com/BestBuy_US/images/products/4443/4443301_s.gif), RecommendedProduct(4723508,beFree Sound - 5.1-Channel Bluetooth Speaker System - Black,219.99,http://images.bestbuy.com/BestBuy_US/images/products/4723/4723508_s.gif), RecommendedProduct(8702075,Bell`O - Full-Motion TV Wall Mount for Most 32\" - 70\" Flat-Panel TVs - Extends 21-3/8\" - Black,219.99,http://images.bestbuy.com/BestBuy_US/images/products/8702/8702075_s.gif), RecommendedProduct(4402606,Bose® - SoundTouch® SA-5 Amplifier - Black,499.99,http://images.bestbuy.com/BestBuy_US/images/products/4402/4402606_s.gif), RecommendedProduct(9169767,Chief - Fusion TV Wall Mount for Most 55\"-75\" Flat-Panel TVs - Black,299.98,http://images.bestbuy.com/BestBuy_US/images/products/9169/9169767_s.gif), RecommendedProduct(9917903,Chief - Low-Profile Tilt TV Wall Mount for Most 26\" - 42\" Flat-Panel TVs - Black,81.99,http://images.bestbuy.com/BestBuy_US/images/products/9917/9917903_s.gif), RecommendedProduct(8233495,Chief - Full Motion TV Wall Mount for 26\" - 40\" Flat-Panel TVs - Extends 20\" - Black,205.99,http://images.bestbuy.com/BestBuy_US/images/products/8233/8233495_s.gif), RecommendedProduct(4330826,Kanto - Full-Motion TV Wall Mount for Most 39\" - 75\" Flat-Panel TVs - Extends 24\" - Black,149.99,http://images.bestbuy.com/BestBuy_US/images/products/4330/4330826_s.gif), RecommendedProduct(4774116,Boytone - 3-Speed Turntable - Black,74.99,http://images.bestbuy.com/BestBuy_US/images/products/4774/4774116_s.gif), RecommendedProduct(9400112,Bell`O - Full-Motion TV Wall Mount for Most 12\" - 37\" Flat-Panel TVs - Extends 16-1/8\" - Black,79.99,http://images.bestbuy.com/BestBuy_US/images/products/9400/9400112_s.gif), RecommendedProduct(1854147,Insignia™ - 32\" Class (31.5\" Diag.) - LED - 720p - HDTV - Black,179.99,http://images.bestbuy.com/BestBuy_US/images/products/1854/1854147_s.gif), RecommendedProduct(8900781,Chief - Thinstall Wall Mount for Select Hitachi 1.5 UltraThin LCD HDTVs Up To 65\" - Black,149.99,http://img.bbystatic.com/BestBuy_US/images/products/8900/8900781_r.gif), RecommendedProduct(8758588,Chief - Full-Motion TV Mount for 32\" - 50\" Flat-Panel TVs - Extends 25\" - Black,395.99,http://images.bestbuy.com/BestBuy_US/images/products/8758/8758588_s.gif), RecommendedProduct(2750471,BIC America - 8\" 100-Watt Powered Subwoofer - Black,119.99,http://images.bestbuy.com/BestBuy_US/images/products/2750/2750471_s.gif), RecommendedProduct(1654884,CorLiving - Full-Motion TV Wall Mount for Most 23\" - 42\" Flat-Panel TVs - Black,39.99,http://images.bestbuy.com/BestBuy_US/images/products/1654/1654884_s.gif), RecommendedProduct(1029367,Chief - Medium FIT Fixed TV Wall Mount for Most 26\" - 42\" Flat-Panel TVs - Black,64.99,http://images.bestbuy.com/BestBuy_US/images/products/1029/1029367_s.gif), RecommendedProduct(4784810,Boytone - 2.1-Ch. Home Theater System - Black,64.99,http://images.bestbuy.com/BestBuy_US/images/products/4784/4784810_s.gif), RecommendedProduct(8887317,bem wireless - Mobile Speaker for Apple® iPod® and Most Bluetooth-Enabled Devices - Black,39.99,http://img.bbystatic.com/BestBuy_US/images/products/8887/8887317_54x108_s.gif), RecommendedProduct(9041699,CorLiving - Full-Motion TV Wall Mount for Most 26\" - 47\" TVs - Extends 20-1/4\" - Black,119.99,http://images.bestbuy.com/BestBuy_US/images/products/9041/9041699_s.gif), RecommendedProduct(4235056,BIC America - Formula 12\" 475W Powered Subwoofer - Black,219.99,http://images.bestbuy.com/BestBuy_US/images/products/4235/4235056_s.gif), RecommendedProduct(9649105,Bose® - Bluetooth Audio Adapter - Black,59.99,http://images.bestbuy.com/BestBuy_US/images/products/9649/9649105_s.gif), RecommendedProduct(8758597,Chief - Left/Right-Channel Speaker  Adapter for Select Chief Wall Mounts - Black,137.99,http://img.bbystatic.com/BestBuy_US/images/products/8758/8758597_s.gif), RecommendedProduct(8702011,Bell`O - Full-Motion TV Wall Mount For Most 12\" - 32\" Flat-Panel TVs - Extends Up To 16\" - Black,99.99,http://images.bestbuy.com/BestBuy_US/images/products/8702/8702011_s.gif), RecommendedProduct(4784811,Boytone - 2.1-Ch. Home Theater System - Black,99.99,http://images.bestbuy.com/BestBuy_US/images/products/4784/4784811_s.gif), RecommendedProduct(5610189,Bose® - SoundTouch™ Wireless Adapter - Black,99.99,http://img.bbystatic.com/BestBuy_US/images/products/5610/5610189_s.gif), RecommendedProduct(7934078,Kanto - Tilting TV Wall Mount for Most 19\" - 60\" Flat-Panel TVs - Black,69.99,http://images.bestbuy.com/BestBuy_US/images/products/7934/7934078_s.gif), RecommendedProduct(9918153,Chief - Large FIT Tilting TV Wall Mount for Most 32\" - 52\" Flat-Panel TVs - Black,106.99,http://images.bestbuy.com/BestBuy_US/images/products/9918/9918153_s.gif), RecommendedProduct(2750462,BIC America - 5-1/4\" 2-Way Center-Channel Speaker - Black,89.99,http://images.bestbuy.com/BestBuy_US/images/products/2750/2750462_s.gif), RecommendedProduct(4774100,Boytone - 3-Speed Turntable - Black,89.99,http://images.bestbuy.com/BestBuy_US/images/products/4774/4774100_s.gif), RecommendedProduct(5316122,Jensen - 2.1-Channel Soundbar with Built-in Subwoofer - Black,139.99,http://images.bestbuy.com/BestBuy_US/images/products/5316/5316122_s.gif), RecommendedProduct(8524004,Acoustic Research - Pasadena Portable Bluetooth Rechargeable Speaker System - Black,99.99,http://images.bestbuy.com/BestBuy_US/images/products/8524/8524004_s.gif), RecommendedProduct(2750296,BIC America - 6-1/2\" Center-Channel Speaker - Black,109.99,http://images.bestbuy.com/BestBuy_US/images/products/2750/2750296_s.gif), RecommendedProduct(8043466,CorLiving - Fixed TV Wall Mount for Most 32\" - 55\" Flat-Panel TVs - Black,49.99,http://images.bestbuy.com/BestBuy_US/images/products/8043/8043466_s.gif), RecommendedProduct(5818198,Center Stage Bracket - Mounting Bracket for Speaker - Black,79.99,http://img.bbystatic.com/BestBuy_US/images/products/5818/5818198_s.gif), RecommendedProduct(8043439,CorLiving - Fixed TV Wall Mount for Most 36\" - 55\" Flat-Panel TVs - Black,99.99,http://images.bestbuy.com/BestBuy_US/images/products/8043/8043439_s.gif), RecommendedProduct(5148005,Insignia™ - Fixed TV Wall Mount for Most 40\" - 70\" Flat-Panel TVs - Black,59.99,http://images.bestbuy.com/BestBuy_US/images/products/5148/5148005_s.gif), RecommendedProduct(5922717,Diamond - Articulating TV Wall Mount for Most 14\" - 37\" Flat-Panel TVs - Extends 15-5/8\" - Black,59.99,http://images.bestbuy.com/BestBuy_US/images/products/5922/5922717_s.gif), RecommendedProduct(7934069,Kanto - Wall-Mounted Shelving Unit - Black,44.99,http://images.bestbuy.com/BestBuy_US/images/products/7934/7934069_s.gif), RecommendedProduct(4255641,Bell`O - Fixed TV Wall Mount for Most 26\" - 42\" Flat-Panel TVs - Black,119.99,http://images.bestbuy.com/BestBuy_US/images/products/4255/4255641_s.gif), RecommendedProduct(5937828,Diamond - Tilting TV Wall Mount for Most 32\" - 50\" Flat-Panel TVs - Black,59.99,http://images.bestbuy.com/BestBuy_US/images/products/5937/5937828_s.gif), RecommendedProduct(4784801,Boytone - 2500W 2.1-Ch. Home Theater System - Black,64.99,http://images.bestbuy.com/BestBuy_US/images/products/4784/4784801_s.gif), RecommendedProduct(2750569,BIC America - 3-Way Indoor/Outdoor Speakers (Pair) - Black,44.99,http://images.bestbuy.com/BestBuy_US/images/products/2750/2750569_s.gif), RecommendedProduct(5937819,Diamond - Tilting TV Wall Mount for Most 23\" - 40\" Flat-Panel TVs - Black,49.99,http://images.bestbuy.com/BestBuy_US/images/products/5937/5937819_s.gif), RecommendedProduct(4290827,GE - Ultra Edge Indoor HDTV Antenna - Black,26.99,http://images.bestbuy.com/BestBuy_US/images/products/4290/4290827_s.gif), RecommendedProduct(3588023,bem wireless - Bluetooth Mini Mobile Speaker - Black,14.99,http://img.bbystatic.com/BestBuy_US/images/products/3588/3588023_r.gif), RecommendedProduct(6623497,AudioQuest - Carbon Fiber Record Brush - Black,25.99,http://img.bbystatic.com/BestBuy_US/images/products/6623/6623497_r.gif), RecommendedProduct(5098106,Boston Acoustics - HSi Series 5-1/4\" 2-way In-Wall Speaker (Each) - Black,79.99,http://images.bestbuy.com/BestBuy_US/images/pac/products/1305/1305326468/1305326468_s.gif), RecommendedProduct(4612300,Kanto - Full Motion TV Wall Mount for Most 26\" - 60\" Flat-Panel TVs - Extends 13.8\" - Black,79.99,http://images.bestbuy.com/BestBuy_US/images/products/4612/4612300_s.gif), RecommendedProduct(8043484,CorLiving - Tilting TV Wall Mount for Most 32\" - 55\" Flat-Panel TVs - Black,59.99,http://images.bestbuy.com/BestBuy_US/images/products/8043/8043484_s.gif), RecommendedProduct(8043281,CorLiving - TV Wall Mount for Most 26\" - 47\" Flat-Panel TVs - Black,39.99,http://images.bestbuy.com/BestBuy_US/images/products/8043/8043281_s.gif), RecommendedProduct(8043448,CorLiving - Tilting TV Wall Mount for Most 26\" - 47\" Flat-Panel TVs - Black,49.99,http://images.bestbuy.com/BestBuy_US/images/products/8043/8043448_s.gif), RecommendedProduct(8043457,CorLiving - Tilting TV Wall Mount for Most 26\" - 47\" Flat-Panel TVs - Black,49.99,http://images.bestbuy.com/BestBuy_US/images/products/8043/8043457_s.gif), RecommendedProduct(5149004,Insignia™ - Fixed TV Wall Mount for Most 19\" - 39\" Flat-Panel TVs - Black,29.99,http://images.bestbuy.com/BestBuy_US/images/products/5149/5149004_s.gif), RecommendedProduct(4290828,GE - Ultraflat Digital Amplified Antenna - Black,29.99,http://images.bestbuy.com/BestBuy_US/images/products/4290/4290828_s.gif), RecommendedProduct(5038400,GE - Advanced Surge Protector - Black,29.99,http://images.bestbuy.com/BestBuy_US/images/products/5038/5038400_s.gif), RecommendedProduct(5922853,Diamond - Tilting TV Wall Mount for Most Flat-Panel TVs Up to 32\" - Black,19.99,http://images.bestbuy.com/BestBuy_US/images/products/5922/5922853_s.gif), RecommendedProduct(9132192,Dynex™ - Fixed Wall Mount for Most 37\" - 70\" Flat-Panel TVs - Black,19.99,http://img.bbystatic.com/BestBuy_US/images/products/9132/9132192_r.gif)))\n"
     ]
    }
   ],
   "source": [
    "ProductCoOccurance.take(1).foreach(println(_))"
   ]
  },
  {
   "cell_type": "code",
   "execution_count": 48,
   "metadata": {
    "collapsed": false
   },
   "outputs": [
    {
     "name": "stdout",
     "output_type": "stream",
     "text": [
      "50\n",
      "50\n",
      "50\n",
      "50\n",
      "50\n",
      "50\n",
      "50\n",
      "50\n",
      "50\n",
      "50\n",
      "50\n",
      "50\n",
      "50\n",
      "50\n",
      "50\n",
      "50\n",
      "50\n",
      "50\n",
      "50\n",
      "50\n",
      "50\n",
      "50\n",
      "50\n",
      "50\n",
      "2\n",
      "50\n",
      "50\n",
      "50\n",
      "50\n",
      "50\n",
      "50\n",
      "50\n",
      "48\n",
      "50\n",
      "50\n",
      "50\n",
      "50\n",
      "50\n",
      "50\n",
      "50\n",
      "50\n",
      "50\n",
      "50\n",
      "50\n",
      "50\n",
      "50\n",
      "50\n",
      "50\n",
      "50\n",
      "50\n",
      "50\n",
      "50\n",
      "50\n",
      "50\n",
      "50\n",
      "50\n",
      "50\n",
      "50\n",
      "50\n",
      "50\n",
      "50\n",
      "50\n",
      "50\n",
      "50\n",
      "50\n",
      "50\n",
      "50\n",
      "50\n",
      "50\n",
      "50\n",
      "50\n",
      "50\n",
      "50\n",
      "50\n",
      "50\n",
      "50\n",
      "50\n",
      "50\n",
      "50\n",
      "50\n",
      "50\n",
      "50\n",
      "50\n",
      "50\n",
      "50\n",
      "50\n",
      "50\n",
      "50\n",
      "50\n",
      "50\n",
      "50\n",
      "50\n",
      "50\n",
      "50\n",
      "50\n",
      "50\n",
      "50\n",
      "50\n",
      "50\n",
      "50\n",
      "50\n",
      "50\n",
      "50\n",
      "50\n",
      "50\n",
      "50\n",
      "50\n",
      "50\n",
      "50\n",
      "50\n",
      "50\n",
      "50\n",
      "50\n",
      "50\n",
      "50\n",
      "50\n",
      "50\n",
      "50\n",
      "50\n",
      "50\n",
      "50\n",
      "50\n",
      "50\n",
      "50\n",
      "50\n",
      "50\n",
      "50\n",
      "50\n",
      "50\n",
      "50\n",
      "50\n",
      "50\n",
      "50\n",
      "50\n",
      "50\n",
      "50\n",
      "50\n",
      "50\n",
      "50\n",
      "50\n",
      "50\n",
      "50\n",
      "50\n",
      "50\n",
      "50\n",
      "50\n",
      "50\n",
      "50\n",
      "50\n",
      "50\n",
      "50\n",
      "50\n",
      "3\n",
      "50\n",
      "50\n",
      "50\n",
      "50\n",
      "50\n",
      "50\n",
      "50\n",
      "50\n",
      "50\n",
      "50\n",
      "50\n",
      "50\n",
      "50\n",
      "50\n",
      "50\n",
      "50\n",
      "50\n",
      "50\n",
      "50\n",
      "50\n",
      "50\n",
      "50\n",
      "50\n",
      "50\n",
      "50\n",
      "50\n",
      "50\n",
      "50\n",
      "50\n",
      "50\n",
      "50\n",
      "50\n",
      "50\n",
      "50\n",
      "50\n",
      "50\n",
      "50\n",
      "50\n",
      "50\n",
      "50\n",
      "50\n",
      "50\n",
      "50\n",
      "50\n",
      "50\n",
      "50\n",
      "50\n",
      "50\n",
      "50\n",
      "50\n",
      "50\n",
      "50\n",
      "50\n",
      "50\n",
      "50\n",
      "50\n",
      "50\n",
      "50\n",
      "50\n",
      "2\n",
      "50\n",
      "50\n",
      "50\n",
      "50\n",
      "50\n",
      "50\n",
      "50\n",
      "50\n",
      "50\n",
      "50\n",
      "50\n",
      "50\n",
      "50\n",
      "50\n",
      "50\n",
      "50\n",
      "50\n",
      "50\n",
      "50\n",
      "50\n",
      "50\n",
      "50\n",
      "50\n",
      "50\n",
      "3\n",
      "50\n",
      "50\n",
      "50\n",
      "50\n",
      "50\n",
      "50\n",
      "50\n",
      "50\n",
      "50\n",
      "50\n",
      "50\n",
      "50\n",
      "50\n",
      "50\n",
      "50\n",
      "50\n",
      "50\n",
      "50\n",
      "50\n",
      "50\n",
      "50\n",
      "50\n",
      "50\n",
      "50\n",
      "50\n",
      "50\n",
      "50\n",
      "50\n",
      "50\n",
      "50\n",
      "50\n",
      "50\n",
      "50\n",
      "50\n",
      "50\n",
      "50\n",
      "50\n",
      "50\n",
      "50\n",
      "50\n",
      "50\n",
      "50\n",
      "50\n",
      "50\n",
      "50\n",
      "45\n",
      "50\n",
      "50\n",
      "50\n",
      "50\n",
      "50\n",
      "50\n",
      "50\n",
      "50\n",
      "47\n",
      "50\n",
      "50\n",
      "50\n",
      "50\n",
      "50\n",
      "50\n",
      "41\n",
      "50\n"
     ]
    }
   ],
   "source": [
    "ProductCoOccurance.map(_.recommended_products.size).collect.foreach(println)"
   ]
  },
  {
   "cell_type": "code",
   "execution_count": null,
   "metadata": {
    "collapsed": true
   },
   "outputs": [],
   "source": []
  }
 ],
 "metadata": {
  "kernelspec": {
   "display_name": "Spark-DSE Local (Scala 2.10.4)",
   "language": "scala",
   "name": "spark-dse-local"
  },
  "language_info": {
   "name": "scala"
  }
 },
 "nbformat": 4,
 "nbformat_minor": 0
}
